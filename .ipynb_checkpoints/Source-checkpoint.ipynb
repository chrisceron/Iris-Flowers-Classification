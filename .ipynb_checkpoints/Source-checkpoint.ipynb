{
 "cells": [
  {
   "cell_type": "code",
   "execution_count": 101,
   "metadata": {},
   "outputs": [
    {
     "name": "stdout",
     "output_type": "stream",
     "text": [
      "     feature_1  feature_2  feature_3  feature_4       iris_name\n",
      "0          5.1        3.5        1.4        0.2     Iris-setosa\n",
      "1          4.9        3.0        1.4        0.2     Iris-setosa\n",
      "2          4.7        3.2        1.3        0.2     Iris-setosa\n",
      "3          4.6        3.1        1.5        0.2     Iris-setosa\n",
      "4          5.0        3.6        1.4        0.2     Iris-setosa\n",
      "..         ...        ...        ...        ...             ...\n",
      "145        6.7        3.0        5.2        2.3  Iris-virginica\n",
      "146        6.3        2.5        5.0        1.9  Iris-virginica\n",
      "147        6.5        3.0        5.2        2.0  Iris-virginica\n",
      "148        6.2        3.4        5.4        2.3  Iris-virginica\n",
      "149        5.9        3.0        5.1        1.8  Iris-virginica\n",
      "\n",
      "[150 rows x 5 columns]\n"
     ]
    }
   ],
   "source": [
    "import numpy as np\n",
    "import pandas as pd\n",
    "\n",
    "col = ['feature_1', 'feature_2', 'feature_3', 'feature_4', 'iris_name']\n",
    "iris_data = pd.read_csv('iris.data',names=col)\n",
    "print(iris_data)"
   ]
  },
  {
   "cell_type": "code",
   "execution_count": 102,
   "metadata": {},
   "outputs": [
    {
     "data": {
      "text/html": [
       "<div>\n",
       "<style scoped>\n",
       "    .dataframe tbody tr th:only-of-type {\n",
       "        vertical-align: middle;\n",
       "    }\n",
       "\n",
       "    .dataframe tbody tr th {\n",
       "        vertical-align: top;\n",
       "    }\n",
       "\n",
       "    .dataframe thead th {\n",
       "        text-align: right;\n",
       "    }\n",
       "</style>\n",
       "<table border=\"1\" class=\"dataframe\">\n",
       "  <thead>\n",
       "    <tr style=\"text-align: right;\">\n",
       "      <th></th>\n",
       "      <th>feature_1</th>\n",
       "      <th>feature_2</th>\n",
       "      <th>feature_3</th>\n",
       "      <th>feature_4</th>\n",
       "      <th>iris_name</th>\n",
       "    </tr>\n",
       "  </thead>\n",
       "  <tbody>\n",
       "    <tr>\n",
       "      <td>feature_1</td>\n",
       "      <td>1.000000</td>\n",
       "      <td>-0.109369</td>\n",
       "      <td>0.871754</td>\n",
       "      <td>0.817954</td>\n",
       "      <td>0.782561</td>\n",
       "    </tr>\n",
       "    <tr>\n",
       "      <td>feature_2</td>\n",
       "      <td>-0.109369</td>\n",
       "      <td>1.000000</td>\n",
       "      <td>-0.420516</td>\n",
       "      <td>-0.356544</td>\n",
       "      <td>-0.419446</td>\n",
       "    </tr>\n",
       "    <tr>\n",
       "      <td>feature_3</td>\n",
       "      <td>0.871754</td>\n",
       "      <td>-0.420516</td>\n",
       "      <td>1.000000</td>\n",
       "      <td>0.962757</td>\n",
       "      <td>0.949043</td>\n",
       "    </tr>\n",
       "    <tr>\n",
       "      <td>feature_4</td>\n",
       "      <td>0.817954</td>\n",
       "      <td>-0.356544</td>\n",
       "      <td>0.962757</td>\n",
       "      <td>1.000000</td>\n",
       "      <td>0.956464</td>\n",
       "    </tr>\n",
       "    <tr>\n",
       "      <td>iris_name</td>\n",
       "      <td>0.782561</td>\n",
       "      <td>-0.419446</td>\n",
       "      <td>0.949043</td>\n",
       "      <td>0.956464</td>\n",
       "      <td>1.000000</td>\n",
       "    </tr>\n",
       "  </tbody>\n",
       "</table>\n",
       "</div>"
      ],
      "text/plain": [
       "           feature_1  feature_2  feature_3  feature_4  iris_name\n",
       "feature_1   1.000000  -0.109369   0.871754   0.817954   0.782561\n",
       "feature_2  -0.109369   1.000000  -0.420516  -0.356544  -0.419446\n",
       "feature_3   0.871754  -0.420516   1.000000   0.962757   0.949043\n",
       "feature_4   0.817954  -0.356544   0.962757   1.000000   0.956464\n",
       "iris_name   0.782561  -0.419446   0.949043   0.956464   1.000000"
      ]
     },
     "execution_count": 102,
     "metadata": {},
     "output_type": "execute_result"
    }
   ],
   "source": [
    "iris_data['iris_name'] = iris_data['iris_name'].astype('category')\n",
    "\n",
    "iris_data_numeric = iris_data.copy()\n",
    "iris_data_numeric['iris_name'] = iris_data_numeric['iris_name'].cat.codes\n",
    "\n",
    "shuffle_iris_numeric = iris_data_numeric.iloc[np.random.permutation(iris_data_numeric.index)]\n",
    "\n",
    "feat = ['feature_1', 'feature_2', 'feature_3', 'feature_4']\n",
    "target = ['iris_name']\n",
    "\n",
    "highest_train_row = int(iris_data_numeric.shape[0] * .70)\n",
    "train = shuffle_iris_numeric.iloc[0:highest_train_row].reset_index()\n",
    "test = shuffle_iris_numeric.iloc[highest_train_row:].reset_index()\n",
    "\n",
    "unique_col = iris_data_numeric['iris_name'].unique()\n",
    "unique_col.sort()\n",
    "iris_data_numeric.corr()"
   ]
  },
  {
   "cell_type": "code",
   "execution_count": 103,
   "metadata": {},
   "outputs": [
    {
     "name": "stderr",
     "output_type": "stream",
     "text": [
      "C:\\Users\\chris\\Anaconda3\\lib\\site-packages\\sklearn\\linear_model\\logistic.py:432: FutureWarning: Default solver will be changed to 'lbfgs' in 0.22. Specify a solver to silence this warning.\n",
      "  FutureWarning)\n",
      "C:\\Users\\chris\\Anaconda3\\lib\\site-packages\\sklearn\\linear_model\\logistic.py:432: FutureWarning: Default solver will be changed to 'lbfgs' in 0.22. Specify a solver to silence this warning.\n",
      "  FutureWarning)\n",
      "C:\\Users\\chris\\Anaconda3\\lib\\site-packages\\sklearn\\linear_model\\logistic.py:432: FutureWarning: Default solver will be changed to 'lbfgs' in 0.22. Specify a solver to silence this warning.\n",
      "  FutureWarning)\n"
     ]
    }
   ],
   "source": [
    "from sklearn.linear_model import LogisticRegression\n",
    "import matplotlib.pyplot as plt\n",
    "\n",
    "models = {}\n",
    "\n",
    "for c in unique_col:\n",
    "    lr = LogisticRegression()\n",
    "    \n",
    "    x_train = train[feat]\n",
    "    y_train = train['iris_name'] == c\n",
    "    \n",
    "    lr.fit(x_train, y_train)\n",
    "    models[c] = lr\n",
    "    \n",
    "probabilities = pd.DataFrame(columns = unique_col)\n",
    "\n",
    "for c in unique_col:\n",
    "    x_test = test[feat]\n",
    "    \n",
    "    probabilities[c] = models[c].predict_proba(x_test)[:,1]"
   ]
  },
  {
   "cell_type": "code",
   "execution_count": 104,
   "metadata": {},
   "outputs": [
    {
     "name": "stdout",
     "output_type": "stream",
     "text": [
      "0.9333333333333333\n"
     ]
    }
   ],
   "source": [
    "predicted_iris = probabilities.idxmax(axis=1)\n",
    "test['predicted_class'] = predicted_iris\n",
    "\n",
    "matches = test['iris_name'] == test['predicted_class']\n",
    "\n",
    "correct_predictions = test[matches]\n",
    "\n",
    "accuracy = len(correct_predictions) / len(test)\n",
    "\n",
    "print(accuracy)"
   ]
  },
  {
   "cell_type": "code",
   "execution_count": null,
   "metadata": {},
   "outputs": [],
   "source": []
  },
  {
   "cell_type": "code",
   "execution_count": null,
   "metadata": {},
   "outputs": [],
   "source": []
  }
 ],
 "metadata": {
  "kernelspec": {
   "display_name": "Python 3",
   "language": "python",
   "name": "python3"
  },
  "language_info": {
   "codemirror_mode": {
    "name": "ipython",
    "version": 3
   },
   "file_extension": ".py",
   "mimetype": "text/x-python",
   "name": "python",
   "nbconvert_exporter": "python",
   "pygments_lexer": "ipython3",
   "version": "3.7.4"
  }
 },
 "nbformat": 4,
 "nbformat_minor": 2
}
